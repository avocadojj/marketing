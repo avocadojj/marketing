{
 "cells": [
  {
   "cell_type": "code",
   "execution_count": 1,
   "metadata": {},
   "outputs": [
    {
     "name": "stderr",
     "output_type": "stream",
     "text": [
      "23/07/31 12:22:28 WARN Utils: Your hostname, pop-os resolves to a loopback address: 127.0.1.1; using 192.168.100.54 instead (on interface wlp3s0)\n",
      "23/07/31 12:22:28 WARN Utils: Set SPARK_LOCAL_IP if you need to bind to another address\n",
      "Setting default log level to \"WARN\".\n",
      "To adjust logging level use sc.setLogLevel(newLevel). For SparkR, use setLogLevel(newLevel).\n",
      "23/07/31 12:22:29 WARN NativeCodeLoader: Unable to load native-hadoop library for your platform... using builtin-java classes where applicable\n",
      "                                                                                \r"
     ]
    }
   ],
   "source": [
    "import sys\n",
    "import pyspark\n",
    "from pyspark.sql import SparkSession\n",
    "from pyspark.sql import functions as F\n",
    "from pyspark.sql.functions import *\n",
    "import pandas as pd\n",
    "import numpy as np\n",
    "from pyspark.sql.types import DateType\n",
    "from pyspark.sql.functions import pandas_udf, PandasUDFType,create_map, lit, col, to_date, concat,row_number\n",
    "from itertools import chain\n",
    "import os\n",
    "from pyspark.sql.window import Window\n",
    "\n",
    "\n",
    "\n",
    "# Create spark session\n",
    "spark = (SparkSession\n",
    "    .builder \n",
    "    .appName(\"spark-cleansing\") \n",
    "    .getOrCreate()\n",
    "    )\n",
    "sc = spark.sparkContext\n",
    "sc.setLogLevel(\"WARN\")\n",
    "\n",
    "####################################\n",
    "# path file\n",
    "####################################\n",
    "csv_file = \"/home/azril/bank_campaign/datasets/bank_marketing.csv\"\n",
    "\n",
    "####################################\n",
    "# Read csv Data\n",
    "####################################\n",
    "#from csv to parquet\n",
    "\n",
    "\n",
    "df = (\n",
    "    spark.read\n",
    "    .format(\"csv\")\n",
    "    .option(\"sep\", \";\")\n",
    "    .option(\"header\", True)\n",
    "    .load(csv_file)\n",
    ")"
   ]
  },
  {
   "cell_type": "code",
   "execution_count": 2,
   "metadata": {},
   "outputs": [
    {
     "name": "stdout",
     "output_type": "stream",
     "text": [
      "Dimensions of Data: (41188, 21)\n",
      "Rows of Data: 41188\n",
      "Columns of Data: 21\n"
     ]
    }
   ],
   "source": [
    "rows = df.count()\n",
    "cols = len(df.columns)\n",
    "\n",
    "print(f'Dimensions of Data: {(rows,cols)}')\n",
    "print(f'Rows of Data: {rows}')\n",
    "print(f'Columns of Data: {cols}')"
   ]
  },
  {
   "cell_type": "code",
   "execution_count": 3,
   "metadata": {},
   "outputs": [],
   "source": [
    "df_transform1 = df.withColumn(\"education\",\n",
    "                                        when(df.education.endswith('4y'), regexp_replace(df.education, 'basic.4y', 'basic')) \\\n",
    "                                        .when(df.education.endswith('6y'), regexp_replace(df.education, 'basic.6y', 'basic')) \\\n",
    "                                        .when(df.education.endswith('9y'), regexp_replace(df.education, 'basic.9y', 'basic')) \\\n",
    "                                        .otherwise(df.education)\n",
    "                                        )\n"
   ]
  },
  {
   "cell_type": "code",
   "execution_count": 4,
   "metadata": {},
   "outputs": [
    {
     "name": "stdout",
     "output_type": "stream",
     "text": [
      "+---+---------+-------+-----------+-------+-------+----+---------+-----+-----------+--------+--------+-----+--------+-----------+------------+--------------+-------------+---------+-----------+---+\n",
      "|age|      job|marital|  education|default|housing|loan|  contact|month|day_of_week|duration|campaign|pdays|previous|   poutcome|emp.var.rate|cons.price.idx|cons.conf.idx|euribor3m|nr.employed|  y|\n",
      "+---+---------+-------+-----------+-------+-------+----+---------+-----+-----------+--------+--------+-----+--------+-----------+------------+--------------+-------------+---------+-----------+---+\n",
      "| 56|housemaid|married|      basic|     no|     no|  no|telephone|  may|        mon|     261|       1|  999|       0|nonexistent|         1.1|        93.994|        -36.4|    4.857|       5191| no|\n",
      "| 57| services|married|high.school|unknown|     no|  no|telephone|  may|        mon|     149|       1|  999|       0|nonexistent|         1.1|        93.994|        -36.4|    4.857|       5191| no|\n",
      "| 37| services|married|high.school|     no|    yes|  no|telephone|  may|        mon|     226|       1|  999|       0|nonexistent|         1.1|        93.994|        -36.4|    4.857|       5191| no|\n",
      "| 40|   admin.|married|      basic|     no|     no|  no|telephone|  may|        mon|     151|       1|  999|       0|nonexistent|         1.1|        93.994|        -36.4|    4.857|       5191| no|\n",
      "| 56| services|married|high.school|     no|     no| yes|telephone|  may|        mon|     307|       1|  999|       0|nonexistent|         1.1|        93.994|        -36.4|    4.857|       5191| no|\n",
      "+---+---------+-------+-----------+-------+-------+----+---------+-----+-----------+--------+--------+-----+--------+-----------+------------+--------------+-------------+---------+-----------+---+\n",
      "only showing top 5 rows\n",
      "\n"
     ]
    }
   ],
   "source": [
    "df_transform1.show(5)"
   ]
  },
  {
   "cell_type": "code",
   "execution_count": 5,
   "metadata": {},
   "outputs": [],
   "source": [
    "df_transform2 = df_transform1.withColumnRenamed('emp.var.rate', 'emp_var_rate') \\\n",
    "       .withColumnRenamed('cons.price.idx', 'cons_price_idx') \\\n",
    "       .withColumnRenamed('cons.conf.idx', 'cons_conf_idx') \\\n",
    "       .withColumnRenamed('nr.employed', 'nr_employed') \\\n",
    "       .withColumnRenamed('default', 'credit') \\\n",
    "       .withColumnRenamed('y', 'subcribed')\n"
   ]
  },
  {
   "cell_type": "code",
   "execution_count": 6,
   "metadata": {},
   "outputs": [
    {
     "name": "stdout",
     "output_type": "stream",
     "text": [
      "+---+---------+-------+-----------+-------+-------+----+---------+-----+-----------+--------+--------+-----+--------+-----------+------------+--------------+-------------+---------+-----------+---------+\n",
      "|age|      job|marital|  education| credit|housing|loan|  contact|month|day_of_week|duration|campaign|pdays|previous|   poutcome|emp_var_rate|cons_price_idx|cons_conf_idx|euribor3m|nr_employed|subcribed|\n",
      "+---+---------+-------+-----------+-------+-------+----+---------+-----+-----------+--------+--------+-----+--------+-----------+------------+--------------+-------------+---------+-----------+---------+\n",
      "| 56|housemaid|married|      basic|     no|     no|  no|telephone|  may|        mon|     261|       1|  999|       0|nonexistent|         1.1|        93.994|        -36.4|    4.857|       5191|       no|\n",
      "| 57| services|married|high.school|unknown|     no|  no|telephone|  may|        mon|     149|       1|  999|       0|nonexistent|         1.1|        93.994|        -36.4|    4.857|       5191|       no|\n",
      "| 37| services|married|high.school|     no|    yes|  no|telephone|  may|        mon|     226|       1|  999|       0|nonexistent|         1.1|        93.994|        -36.4|    4.857|       5191|       no|\n",
      "| 40|   admin.|married|      basic|     no|     no|  no|telephone|  may|        mon|     151|       1|  999|       0|nonexistent|         1.1|        93.994|        -36.4|    4.857|       5191|       no|\n",
      "| 56| services|married|high.school|     no|     no| yes|telephone|  may|        mon|     307|       1|  999|       0|nonexistent|         1.1|        93.994|        -36.4|    4.857|       5191|       no|\n",
      "+---+---------+-------+-----------+-------+-------+----+---------+-----+-----------+--------+--------+-----+--------+-----------+------------+--------------+-------------+---------+-----------+---------+\n",
      "only showing top 5 rows\n",
      "\n"
     ]
    }
   ],
   "source": [
    "df_transform2.show(5)"
   ]
  },
  {
   "cell_type": "code",
   "execution_count": 7,
   "metadata": {},
   "outputs": [],
   "source": [
    "df_transform3 = df_transform2.na.drop(\"any\")"
   ]
  },
  {
   "cell_type": "code",
   "execution_count": 8,
   "metadata": {},
   "outputs": [
    {
     "name": "stdout",
     "output_type": "stream",
     "text": [
      "Dimensions of Data: (41188, 21)\n",
      "Rows of Data: 41188\n",
      "Columns of Data: 21\n"
     ]
    }
   ],
   "source": [
    "rows = df_transform3.count()\n",
    "cols = len(df_transform3.columns)\n",
    "\n",
    "print(f'Dimensions of Data: {(rows,cols)}')\n",
    "print(f'Rows of Data: {rows}')\n",
    "print(f'Columns of Data: {cols}')"
   ]
  },
  {
   "cell_type": "code",
   "execution_count": 25,
   "metadata": {},
   "outputs": [],
   "source": [
    "\n",
    "\n",
    "window = Window.orderBy(monotonically_increasing_id())\n",
    "df_transform3 = df_transform3.withColumn(\"client_id\", row_number().over(window) - 1)\n",
    "df_transform4 = df_transform3.select([\"client_id\"] + [col for col in df_transform3.columns if col != \"client_id\"])"
   ]
  },
  {
   "cell_type": "code",
   "execution_count": 10,
   "metadata": {},
   "outputs": [
    {
     "name": "stderr",
     "output_type": "stream",
     "text": [
      "23/07/31 12:22:41 WARN WindowExec: No Partition Defined for Window operation! Moving all data to a single partition, this can cause serious performance degradation.\n",
      "23/07/31 12:22:41 WARN WindowExec: No Partition Defined for Window operation! Moving all data to a single partition, this can cause serious performance degradation.\n",
      "23/07/31 12:22:41 WARN WindowExec: No Partition Defined for Window operation! Moving all data to a single partition, this can cause serious performance degradation.\n",
      "23/07/31 12:22:41 WARN WindowExec: No Partition Defined for Window operation! Moving all data to a single partition, this can cause serious performance degradation.\n",
      "23/07/31 12:22:41 WARN WindowExec: No Partition Defined for Window operation! Moving all data to a single partition, this can cause serious performance degradation.\n",
      "                                                                                \r"
     ]
    },
    {
     "data": {
      "text/plain": [
       "[Row(client_id=41183, age='73', job='retired', marital='married', education='professional.course', credit='no', housing='yes', loan='no', contact='cellular', month='nov', day_of_week='fri', duration='334', campaign='1', pdays='999', previous='0', poutcome='nonexistent', emp_var_rate='-1.1', cons_price_idx='94.767', cons_conf_idx='-50.8', euribor3m='1.028', nr_employed='4963.6', subcribed='yes'),\n",
       " Row(client_id=41184, age='46', job='blue-collar', marital='married', education='professional.course', credit='no', housing='no', loan='no', contact='cellular', month='nov', day_of_week='fri', duration='383', campaign='1', pdays='999', previous='0', poutcome='nonexistent', emp_var_rate='-1.1', cons_price_idx='94.767', cons_conf_idx='-50.8', euribor3m='1.028', nr_employed='4963.6', subcribed='no'),\n",
       " Row(client_id=41185, age='56', job='retired', marital='married', education='university.degree', credit='no', housing='yes', loan='no', contact='cellular', month='nov', day_of_week='fri', duration='189', campaign='2', pdays='999', previous='0', poutcome='nonexistent', emp_var_rate='-1.1', cons_price_idx='94.767', cons_conf_idx='-50.8', euribor3m='1.028', nr_employed='4963.6', subcribed='no'),\n",
       " Row(client_id=41186, age='44', job='technician', marital='married', education='professional.course', credit='no', housing='no', loan='no', contact='cellular', month='nov', day_of_week='fri', duration='442', campaign='1', pdays='999', previous='0', poutcome='nonexistent', emp_var_rate='-1.1', cons_price_idx='94.767', cons_conf_idx='-50.8', euribor3m='1.028', nr_employed='4963.6', subcribed='yes'),\n",
       " Row(client_id=41187, age='74', job='retired', marital='married', education='professional.course', credit='no', housing='yes', loan='no', contact='cellular', month='nov', day_of_week='fri', duration='239', campaign='3', pdays='999', previous='1', poutcome='failure', emp_var_rate='-1.1', cons_price_idx='94.767', cons_conf_idx='-50.8', euribor3m='1.028', nr_employed='4963.6', subcribed='no')]"
      ]
     },
     "execution_count": 10,
     "metadata": {},
     "output_type": "execute_result"
    }
   ],
   "source": [
    "#print last 5 rows\n",
    "df_transform4.tail(5)"
   ]
  },
  {
   "cell_type": "code",
   "execution_count": 26,
   "metadata": {},
   "outputs": [
    {
     "name": "stderr",
     "output_type": "stream",
     "text": [
      "23/07/31 12:33:27 WARN WindowExec: No Partition Defined for Window operation! Moving all data to a single partition, this can cause serious performance degradation.\n",
      "23/07/31 12:33:27 WARN WindowExec: No Partition Defined for Window operation! Moving all data to a single partition, this can cause serious performance degradation.\n",
      "23/07/31 12:33:27 WARN WindowExec: No Partition Defined for Window operation! Moving all data to a single partition, this can cause serious performance degradation.\n",
      "23/07/31 12:33:27 WARN WindowExec: No Partition Defined for Window operation! Moving all data to a single partition, this can cause serious performance degradation.\n",
      "23/07/31 12:33:27 WARN WindowExec: No Partition Defined for Window operation! Moving all data to a single partition, this can cause serious performance degradation.\n"
     ]
    },
    {
     "name": "stdout",
     "output_type": "stream",
     "text": [
      "+---------+---+---+-------+---------+------+-------+----+-------+-----+-----------+--------+--------+-----+--------+--------+------------+--------------+-------------+---------+-----------+---------+\n",
      "|client_id|age|job|marital|education|credit|housing|loan|contact|month|day_of_week|duration|campaign|pdays|previous|poutcome|emp_var_rate|cons_price_idx|cons_conf_idx|euribor3m|nr_employed|subcribed|\n",
      "+---------+---+---+-------+---------+------+-------+----+-------+-----+-----------+--------+--------+-----+--------+--------+------------+--------------+-------------+---------+-----------+---------+\n",
      "+---------+---+---+-------+---------+------+-------+----+-------+-----+-----------+--------+--------+-----+--------+--------+------------+--------------+-------------+---------+-----------+---------+\n",
      "\n"
     ]
    },
    {
     "name": "stderr",
     "output_type": "stream",
     "text": [
      "23/07/31 12:33:28 WARN WindowExec: No Partition Defined for Window operation! Moving all data to a single partition, this can cause serious performance degradation.\n",
      "23/07/31 12:33:28 WARN WindowExec: No Partition Defined for Window operation! Moving all data to a single partition, this can cause serious performance degradation.\n",
      "23/07/31 12:33:28 WARN WindowExec: No Partition Defined for Window operation! Moving all data to a single partition, this can cause serious performance degradation.\n",
      "23/07/31 12:33:28 WARN WindowExec: No Partition Defined for Window operation! Moving all data to a single partition, this can cause serious performance degradation.\n",
      "23/07/31 12:33:28 WARN WindowExec: No Partition Defined for Window operation! Moving all data to a single partition, this can cause serious performance degradation.\n"
     ]
    },
    {
     "name": "stdout",
     "output_type": "stream",
     "text": [
      "+---------+---+---+-------+---------+------+-------+----+-------+-----+-----------+--------+--------+-----+--------+--------+------------+--------------+-------------+---------+-----------+---------+\n",
      "|client_id|age|job|marital|education|credit|housing|loan|contact|month|day_of_week|duration|campaign|pdays|previous|poutcome|emp_var_rate|cons_price_idx|cons_conf_idx|euribor3m|nr_employed|subcribed|\n",
      "+---------+---+---+-------+---------+------+-------+----+-------+-----+-----------+--------+--------+-----+--------+--------+------------+--------------+-------------+---------+-----------+---------+\n",
      "+---------+---+---+-------+---------+------+-------+----+-------+-----+-----------+--------+--------+-----+--------+--------+------------+--------------+-------------+---------+-----------+---------+\n",
      "\n"
     ]
    }
   ],
   "source": [
    "df_transform4.filter((df_transform4['month'].isNull()) | (df_transform4['day_of_week'].isNull())).show()\n",
    "df_transform4.filter((df_transform4['month'] == 'unknown') | (df_transform4['day_of_week'] == 'unknown')).show()\n"
   ]
  },
  {
   "cell_type": "code",
   "execution_count": 27,
   "metadata": {},
   "outputs": [],
   "source": [
    "# Updating dictionaries to match the values in your dataframe\n",
    "month_dict = {\"jan\": 1, \"feb\": 2, \"mar\": 3, \"apr\": 4, \"may\": 5, \"jun\": 6,\n",
    "              \"jul\": 7, \"aug\": 8, \"sep\": 9, \"oct\": 10, \"nov\": 11, \"dec\": 12}\n",
    "\n",
    "day_dict = {\"mon\": 1, \"tue\": 2, \"wed\": 3, \"thu\": 4, \"fri\": 5}\n",
    "\n",
    "subscribed_dict = {\"no\": 0, \"yes\": 1}\n",
    "\n",
    "# Use the dictionaries to map the month, day, and subscribed columns to numbers\n",
    "\n",
    "\n",
    "month_mapping_expr = create_map([lit(x) for x in chain(*month_dict.items())])\n",
    "day_mapping_expr = create_map([lit(x) for x in chain(*day_dict.items())])\n",
    "subscribed_mapping_expr = create_map([lit(x) for x in chain(*subscribed_dict.items())])\n",
    "\n",
    "df_transform4 = df_transform4.withColumn('month', month_mapping_expr.getItem(col('month')))\n",
    "df_transform4 = df_transform4.withColumn('day_of_week', day_mapping_expr.getItem(col('day_of_week')))\n",
    "df_transform4 = df_transform4.withColumn('subcribed', subscribed_mapping_expr.getItem(col('subcribed')))\n",
    "\n",
    "# Convert the month and day columns to string to avoid null values during concatenation\n",
    "df_transform4 = df_transform4.withColumn('month', df_transform4['month'].cast(StringType()))\n",
    "df_transform4 = df_transform4.withColumn('day_of_week', df_transform4['day_of_week'].cast(StringType()))\n",
    "\n",
    "# Create the date column\n",
    "df_transform4 = df_transform4.withColumn(\"date\", \n",
    "                   to_date(concat(lit(\"2022-\"), \n",
    "                                  df_transform4[\"month\"], \n",
    "                                  lit(\"-\"),\n",
    "                                  df_transform4[\"day_of_week\"]), \n",
    "                            \"yyyy-MM-dd\"))\n"
   ]
  },
  {
   "cell_type": "code",
   "execution_count": 28,
   "metadata": {},
   "outputs": [
    {
     "name": "stderr",
     "output_type": "stream",
     "text": [
      "23/07/31 12:33:49 WARN WindowExec: No Partition Defined for Window operation! Moving all data to a single partition, this can cause serious performance degradation.\n",
      "23/07/31 12:33:49 WARN WindowExec: No Partition Defined for Window operation! Moving all data to a single partition, this can cause serious performance degradation.\n",
      "23/07/31 12:33:49 WARN WindowExec: No Partition Defined for Window operation! Moving all data to a single partition, this can cause serious performance degradation.\n"
     ]
    },
    {
     "name": "stdout",
     "output_type": "stream",
     "text": [
      "+---------+---+---------+-------+-----------+-------+-------+----+---------+-----+-----------+--------+--------+-----+--------+-----------+------------+--------------+-------------+---------+-----------+---------+----------+\n",
      "|client_id|age|      job|marital|  education| credit|housing|loan|  contact|month|day_of_week|duration|campaign|pdays|previous|   poutcome|emp_var_rate|cons_price_idx|cons_conf_idx|euribor3m|nr_employed|subcribed|      date|\n",
      "+---------+---+---------+-------+-----------+-------+-------+----+---------+-----+-----------+--------+--------+-----+--------+-----------+------------+--------------+-------------+---------+-----------+---------+----------+\n",
      "|        0| 56|housemaid|married|      basic|     no|     no|  no|telephone|    5|          1|     261|       1|  999|       0|nonexistent|         1.1|        93.994|        -36.4|    4.857|       5191|        0|2022-05-01|\n",
      "|        1| 57| services|married|high.school|unknown|     no|  no|telephone|    5|          1|     149|       1|  999|       0|nonexistent|         1.1|        93.994|        -36.4|    4.857|       5191|        0|2022-05-01|\n",
      "|        2| 37| services|married|high.school|     no|    yes|  no|telephone|    5|          1|     226|       1|  999|       0|nonexistent|         1.1|        93.994|        -36.4|    4.857|       5191|        0|2022-05-01|\n",
      "|        3| 40|   admin.|married|      basic|     no|     no|  no|telephone|    5|          1|     151|       1|  999|       0|nonexistent|         1.1|        93.994|        -36.4|    4.857|       5191|        0|2022-05-01|\n",
      "|        4| 56| services|married|high.school|     no|     no| yes|telephone|    5|          1|     307|       1|  999|       0|nonexistent|         1.1|        93.994|        -36.4|    4.857|       5191|        0|2022-05-01|\n",
      "+---------+---+---------+-------+-----------+-------+-------+----+---------+-----+-----------+--------+--------+-----+--------+-----------+------------+--------------+-------------+---------+-----------+---------+----------+\n",
      "only showing top 5 rows\n",
      "\n"
     ]
    },
    {
     "name": "stderr",
     "output_type": "stream",
     "text": [
      "23/07/31 12:33:49 WARN WindowExec: No Partition Defined for Window operation! Moving all data to a single partition, this can cause serious performance degradation.\n",
      "23/07/31 12:33:49 WARN WindowExec: No Partition Defined for Window operation! Moving all data to a single partition, this can cause serious performance degradation.\n"
     ]
    }
   ],
   "source": [
    "df_transform4.show(5)"
   ]
  },
  {
   "cell_type": "code",
   "execution_count": 29,
   "metadata": {},
   "outputs": [
    {
     "name": "stderr",
     "output_type": "stream",
     "text": [
      "23/07/31 12:34:00 WARN WindowExec: No Partition Defined for Window operation! Moving all data to a single partition, this can cause serious performance degradation.\n",
      "23/07/31 12:34:00 WARN WindowExec: No Partition Defined for Window operation! Moving all data to a single partition, this can cause serious performance degradation.\n",
      "23/07/31 12:34:00 WARN WindowExec: No Partition Defined for Window operation! Moving all data to a single partition, this can cause serious performance degradation.\n",
      "23/07/31 12:34:00 WARN WindowExec: No Partition Defined for Window operation! Moving all data to a single partition, this can cause serious performance degradation.\n",
      "23/07/31 12:34:00 WARN WindowExec: No Partition Defined for Window operation! Moving all data to a single partition, this can cause serious performance degradation.\n"
     ]
    },
    {
     "data": {
      "text/plain": [
       "[Row(client_id=41183, age='73', job='retired', marital='married', education='professional.course', credit='no', housing='yes', loan='no', contact='cellular', month='11', day_of_week='5', duration='334', campaign='1', pdays='999', previous='0', poutcome='nonexistent', emp_var_rate='-1.1', cons_price_idx='94.767', cons_conf_idx='-50.8', euribor3m='1.028', nr_employed='4963.6', subcribed=1, date=datetime.date(2022, 11, 5)),\n",
       " Row(client_id=41184, age='46', job='blue-collar', marital='married', education='professional.course', credit='no', housing='no', loan='no', contact='cellular', month='11', day_of_week='5', duration='383', campaign='1', pdays='999', previous='0', poutcome='nonexistent', emp_var_rate='-1.1', cons_price_idx='94.767', cons_conf_idx='-50.8', euribor3m='1.028', nr_employed='4963.6', subcribed=0, date=datetime.date(2022, 11, 5)),\n",
       " Row(client_id=41185, age='56', job='retired', marital='married', education='university.degree', credit='no', housing='yes', loan='no', contact='cellular', month='11', day_of_week='5', duration='189', campaign='2', pdays='999', previous='0', poutcome='nonexistent', emp_var_rate='-1.1', cons_price_idx='94.767', cons_conf_idx='-50.8', euribor3m='1.028', nr_employed='4963.6', subcribed=0, date=datetime.date(2022, 11, 5)),\n",
       " Row(client_id=41186, age='44', job='technician', marital='married', education='professional.course', credit='no', housing='no', loan='no', contact='cellular', month='11', day_of_week='5', duration='442', campaign='1', pdays='999', previous='0', poutcome='nonexistent', emp_var_rate='-1.1', cons_price_idx='94.767', cons_conf_idx='-50.8', euribor3m='1.028', nr_employed='4963.6', subcribed=1, date=datetime.date(2022, 11, 5)),\n",
       " Row(client_id=41187, age='74', job='retired', marital='married', education='professional.course', credit='no', housing='yes', loan='no', contact='cellular', month='11', day_of_week='5', duration='239', campaign='3', pdays='999', previous='1', poutcome='failure', emp_var_rate='-1.1', cons_price_idx='94.767', cons_conf_idx='-50.8', euribor3m='1.028', nr_employed='4963.6', subcribed=0, date=datetime.date(2022, 11, 5))]"
      ]
     },
     "execution_count": 29,
     "metadata": {},
     "output_type": "execute_result"
    }
   ],
   "source": [
    "df_transform4.tail(5)"
   ]
  }
 ],
 "metadata": {
  "kernelspec": {
   "display_name": "env",
   "language": "python",
   "name": "python3"
  },
  "language_info": {
   "codemirror_mode": {
    "name": "ipython",
    "version": 3
   },
   "file_extension": ".py",
   "mimetype": "text/x-python",
   "name": "python",
   "nbconvert_exporter": "python",
   "pygments_lexer": "ipython3",
   "version": "3.10.6"
  },
  "orig_nbformat": 4
 },
 "nbformat": 4,
 "nbformat_minor": 2
}
